{
  "nbformat": 4,
  "nbformat_minor": 0,
  "metadata": {
    "colab": {
      "name": "ArraysADT_EDD1310.ipynb",
      "provenance": [],
      "authorship_tag": "ABX9TyOQaIAXvWSDkKFz/MKhrXmg",
      "include_colab_link": true
    },
    "kernelspec": {
      "name": "python3",
      "display_name": "Python 3"
    },
    "language_info": {
      "name": "python"
    }
  },
  "cells": [
    {
      "cell_type": "markdown",
      "metadata": {
        "id": "view-in-github",
        "colab_type": "text"
      },
      "source": [
        "<a href=\"https://colab.research.google.com/github/CarlosGarMon/Estructura_de_Datos_1310/blob/main/ArraysADT_EDD1310.ipynb\" target=\"_parent\"><img src=\"https://colab.research.google.com/assets/colab-badge.svg\" alt=\"Open In Colab\"/></a>"
      ]
    },
    {
      "cell_type": "code",
      "metadata": {
        "colab": {
          "base_uri": "https://localhost:8080/"
        },
        "id": "35D-YLtIfhAl",
        "outputId": "c481f377-6449-48f4-f6c1-ac5f1751d728"
      },
      "source": [
        "class Array:\n",
        "    def __init__( self, tam ):\n",
        "        self.__tamanio = tam\n",
        "        self.__data = [ 0 for x in range(self.__tamanio)] #Generador: Estuctura especial de Phyton que ayuda a crear listas de manera automática \n",
        "\n",
        "    def to_string( self ):\n",
        "        info = \"\"\n",
        "        for dato in self.__data:\n",
        "            info = info + str(dato) + \" | \"\n",
        "        return info\n",
        "\n",
        "    def get_item( self, index ):\n",
        "        return self.__data[index]\n",
        "\n",
        "    def get_lenght( self ):\n",
        "        return len(self.__data)\n",
        "\n",
        "    def set_item( self, dato, index ):\n",
        "        #Hace falta revisar los límites del índice \n",
        "        if index >= 0 and index < self.get_lenght():\n",
        "            self.__data[index] = dato\n",
        "        else:\n",
        "            print(\"Error: índice fuera de rango\")\n",
        "\n",
        "    def clear( self, dato ):\n",
        "         self.__data = [ dato for x in range(self.__tamanio)]\n",
        "\n",
        "\n",
        "ejemplo = Array(20)\n",
        "print(ejemplo.to_string())\n",
        "print(ejemplo.get_item(2) )\n",
        "ejemplo.set_item( 45, 22 )\n",
        "print(ejemplo.to_string())\n",
        "ejemplo.clear(4)\n",
        "print(ejemplo.to_string())"
      ],
      "execution_count": null,
      "outputs": [
        {
          "output_type": "stream",
          "name": "stdout",
          "text": [
            "0 | 0 | 0 | 0 | 0 | 0 | 0 | 0 | 0 | 0 | 0 | 0 | 0 | 0 | 0 | 0 | 0 | 0 | 0 | 0 | \n",
            "0\n",
            "Error: índice fuera de rango\n",
            "0 | 0 | 0 | 0 | 0 | 0 | 0 | 0 | 0 | 0 | 0 | 0 | 0 | 0 | 0 | 0 | 0 | 0 | 0 | 0 | \n",
            "4 | 4 | 4 | 4 | 4 | 4 | 4 | 4 | 4 | 4 | 4 | 4 | 4 | 4 | 4 | 4 | 4 | 4 | 4 | 4 | \n"
          ]
        }
      ]
    },
    {
      "cell_type": "code",
      "metadata": {
        "id": "K-aPTVUUgi_k"
      },
      "source": [
        "lista = [ 3*x for x in range(10) ]\n",
        "print(lista)"
      ],
      "execution_count": null,
      "outputs": []
    }
  ]
}